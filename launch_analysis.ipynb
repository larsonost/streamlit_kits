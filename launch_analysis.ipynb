{
 "cells": [
  {
   "cell_type": "markdown",
   "metadata": {},
   "source": [
    "# Overview\n",
    "\n",
    "## Purpose\n",
    "\n",
    "The Global Football Marketing Team has requested that we provide insights into the sentiment of consumer responses to football kit releases from NB and competitor teams. They requested two sentiment metrics: positive/negative/neutral ratings for the kit release on all platforms (Facebook, Instagram, and Twitter) and positive/negative/neutral ratings on only comments referring to the launch format.\n",
    "\n",
    "## Limitations\n",
    "\n",
    "Sprinklr, our social media tool, has the following limitations: \n",
    "1. Does not collect Instagram comments\n",
    "2. Incomplete Facebook comments (missing at random)\n",
    "3. You must use specific keywords that will appear in all responses, including replies to a post. Therefore, we cannot get all replies and comments for a particular topic; we only need posts containing those keywords.\n",
    "4. We found the built-in sentiment analysis tool they used by comparative testing and found it far weaker than we would have liked. This model also needs help with multilingual inputs, as we require seven languages.\n",
    "\n",
    "## Solutions\n",
    "\n",
    "We complete the sentiment analysis and overcome limitations using the following steps:\n",
    "1. We manually scrape all Instagram comments from announcement posts\n",
    "2. We use a web scraper to pull all replies to Facebook posts found by Sprinklr\n",
    "3. We perform two pulls for Twitter posts to ensure we get all replies. Pull 1 gets all posts, and pull 2 uses those post IDs to search for conversations related to those posts\n",
    "4. We use a pre-trained multilingual transformer sentiment analysis model. We translate text when necessary for a holistic view of reviews"
   ]
  },
  {
   "cell_type": "markdown",
   "metadata": {},
   "source": [
    "# Overall Sentiment Analysis"
   ]
  },
  {
   "cell_type": "markdown",
   "metadata": {},
   "source": [
    "### Import modules"
   ]
  },
  {
   "cell_type": "code",
   "execution_count": null,
   "metadata": {},
   "outputs": [],
   "source": [
    "import pandas as pd\n",
    "import warnings\n",
    "from tqdm import tqdm\n",
    "import yaml\n",
    "from helpers import *\n",
    "\n",
    "# display all pandas columns\n",
    "pd.set_option(\"display.max_columns\", None)\n",
    "\n",
    "# Ignore warnings\n",
    "warnings.filterwarnings(\"ignore\")\n",
    "\n",
    "# progress apply\n",
    "tqdm.pandas()"
   ]
  },
  {
   "cell_type": "code",
   "execution_count": null,
   "metadata": {},
   "outputs": [],
   "source": [
    "# Read form yaml\n",
    "with open(\"config.yaml\", \"r\") as file:\n",
    "    config = yaml.safe_load(file)\n",
    "\n",
    "max_fb_comments = config[\"max_fb_comments\"]\n",
    "announcement_keywords = config[\"announcement_keywords\"]"
   ]
  },
  {
   "cell_type": "markdown",
   "metadata": {},
   "source": [
    "### Read Data"
   ]
  },
  {
   "cell_type": "code",
   "execution_count": null,
   "metadata": {},
   "outputs": [],
   "source": [
    "# Set the hardcoded constants of the current club\n",
    "color = \"green\"\n",
    "club = \"chelsea\"\n",
    "twitter_post_1_link = \"https://x.com/ChelseaFC/status/1812744086866088313\"\n",
    "twitter_post_2_link = \"https://x.com/ChelseaFC/status/1817818267706155029\""
   ]
  },
  {
   "cell_type": "code",
   "execution_count": null,
   "metadata": {},
   "outputs": [],
   "source": [
    "# Read in and confirm all data\n",
    "facebook_comments_link = f\"./football_kits_data/{color}/{club}/facebook_comments.txt\"\n",
    "instagram_comments_link = f\"./football_kits_data/{color}/{club}/instagram_comments.txt\"\n",
    "all_platforms = pd.read_excel(\n",
    "    f\"./football_kits_data/{color}/{club}/all_plats.xlsx\"\n",
    ")  # Sprinklr data\n",
    "\n",
    "# seperate by platform\n",
    "df_instagram = all_platforms[all_platforms[\"SocialNetwork\"] == \"INSTAGRAM\"]\n",
    "df_twitter = all_platforms[all_platforms[\"SocialNetwork\"] == \"TWITTER\"]\n",
    "df_facebook = all_platforms[all_platforms[\"SocialNetwork\"] == \"FACEBOOK\"]\n",
    "\n",
    "# check if the posts are in the data\n",
    "platforms = {\"Facebook\": df_facebook, \"Twitter\": df_twitter, \"Instagram\": df_instagram}\n",
    "for platform, df in platforms.items():\n",
    "    if df.shape[0] == 0:\n",
    "        print(f\"No {platform} posts found\")"
   ]
  },
  {
   "cell_type": "markdown",
   "metadata": {},
   "source": [
    "### Format Twitter"
   ]
  },
  {
   "cell_type": "code",
   "execution_count": null,
   "metadata": {},
   "outputs": [],
   "source": [
    "# Get the replies query of the top tweets\n",
    "replies = get_twitter_replies_query(\n",
    "    df_twitter, twitter_post_1_link, twitter_post_2_link\n",
    ")\n",
    "print(replies)"
   ]
  },
  {
   "cell_type": "code",
   "execution_count": null,
   "metadata": {},
   "outputs": [],
   "source": [
    "# Clean and analyze the sentiment of the replies\n",
    "twitter_comments = pd.read_excel(\n",
    "    f\"./football_kits_data/{color}/{club}/twitter_comments.xlsx\"\n",
    ")\n",
    "twitter_comments = clean_twitter_replies(twitter_comments)\n",
    "twitter_comments[\"Sentiment_XLM\"] = twitter_comments[\"Message\"].progress_apply(\n",
    "    get_sentiment\n",
    ")"
   ]
  },
  {
   "cell_type": "markdown",
   "metadata": {},
   "source": [
    "### Format Instagram"
   ]
  },
  {
   "cell_type": "code",
   "execution_count": null,
   "metadata": {},
   "outputs": [],
   "source": [
    "# Read in the comments from plats and comments\n",
    "df_instagram = df_instagram[df_instagram[\"MessageType\"] == \"Instagram Post\"]\n",
    "with open(f\"./football_kits_data/{color}/{club}/instagram_comments.txt\", \"r\") as file:\n",
    "    instagram = file.readlines()"
   ]
  },
  {
   "cell_type": "code",
   "execution_count": null,
   "metadata": {},
   "outputs": [],
   "source": [
    "# Extract all comments\n",
    "insta_comments_ann = set(format_instagram_comments(instagram))\n",
    "insta_comments_up = set(df_instagram[\"Message\"])\n",
    "df_instagram_unique_comments = list(insta_comments_ann.union(insta_comments_up))"
   ]
  },
  {
   "cell_type": "code",
   "execution_count": null,
   "metadata": {},
   "outputs": [],
   "source": [
    "# Analyze the sentiment of the instagram comments\n",
    "df_instagram_comments = pd.DataFrame(df_instagram_unique_comments, columns=[\"Comment\"])\n",
    "df_instagram_comments[\"Sentiment_XLM\"] = df_instagram_comments[\n",
    "    \"Comment\"\n",
    "].progress_apply(get_sentiment)"
   ]
  },
  {
   "cell_type": "markdown",
   "metadata": {},
   "source": [
    "### Format Facebook"
   ]
  },
  {
   "cell_type": "code",
   "execution_count": null,
   "metadata": {},
   "outputs": [],
   "source": [
    "# get cookie jar\n",
    "cookie_jar = get_cookie_jar(\"cookies.txt\")"
   ]
  },
  {
   "cell_type": "code",
   "execution_count": null,
   "metadata": {},
   "outputs": [],
   "source": [
    "# Get all facebook posts/messages\n",
    "fb_post_comments = set(\n",
    "    [\n",
    "        comment\n",
    "        for post_id in get_facebook_post_ids(df_facebook)\n",
    "        for comment in get_facebook_post_comments(post_id, max_fb_comments, cookie_jar)\n",
    "    ]\n",
    ")\n",
    "fb_posts = list(df_facebook[\"Message\"].unique())\n",
    "fb_comments = extract_facebook_comments(facebook_comments_link)\n",
    "df_facebook_unique_comments = list(\n",
    "    set(fb_post_comments.union(fb_posts).union(fb_comments))\n",
    ")"
   ]
  },
  {
   "cell_type": "code",
   "execution_count": null,
   "metadata": {},
   "outputs": [],
   "source": [
    "# Analyze the sentiment of the facebook comments\n",
    "fb_comments_df = pd.DataFrame(df_facebook_unique_comments, columns=[\"Comment\"])\n",
    "fb_comments_df.drop_duplicates(subset=[\"Comment\"], inplace=True)\n",
    "fb_comments_df[\"Sentiment_XLM\"] = fb_comments_df[\"Comment\"].progress_apply(\n",
    "    get_sentiment\n",
    ")"
   ]
  },
  {
   "cell_type": "markdown",
   "metadata": {},
   "source": [
    "### Aggregate Sources"
   ]
  },
  {
   "cell_type": "code",
   "execution_count": null,
   "metadata": {},
   "outputs": [],
   "source": [
    "# Combine all comments and sentiment scores\n",
    "twitter_comments[\"SocialNetwork\"] = \"TWITTER\"\n",
    "df_instagram_comments[\"SocialNetwork\"] = \"INSTAGRAM\"\n",
    "fb_comments_df[\"SocialNetwork\"] = \"FACEBOOK\"\n",
    "\n",
    "\n",
    "all_comments = pd.concat(\n",
    "    [twitter_comments, df_instagram_comments, fb_comments_df], ignore_index=True\n",
    ")"
   ]
  },
  {
   "cell_type": "code",
   "execution_count": null,
   "metadata": {},
   "outputs": [],
   "source": [
    "# print sample size and senitment breakdown of each platform and overall\n",
    "print(f\"\\n\\nTwitter Comments: {twitter_comments.shape[0]}\")\n",
    "print_stats_XLM(twitter_comments)\n",
    "\n",
    "print(f\"\\n\\nFacebook Comments: {fb_comments_df.shape[0]}\")\n",
    "print_stats_XLM(fb_comments_df)\n",
    "\n",
    "print(f\"\\n\\nInstagram Comments: {df_instagram_comments.shape[0]}\")\n",
    "print_stats_XLM(df_instagram_comments)\n",
    "\n",
    "print(f\"\\n\\nOverall Comments: {all_comments.shape[0]}\")\n",
    "print_stats_XLM(all_comments)"
   ]
  },
  {
   "cell_type": "markdown",
   "metadata": {},
   "source": [
    "# Announcement Posts"
   ]
  },
  {
   "cell_type": "markdown",
   "metadata": {},
   "source": [
    "## Announcement post sentiment"
   ]
  },
  {
   "cell_type": "markdown",
   "metadata": {},
   "source": [
    "### Format Twitter"
   ]
  },
  {
   "cell_type": "code",
   "execution_count": null,
   "metadata": {},
   "outputs": [],
   "source": [
    "twitter = pd.read_excel(\n",
    "    f\"./football_kits_data/{color}/{club}/twitter_comments_announcement.xlsx\"\n",
    ")\n",
    "\n",
    "twitter = clean_twitter_replies(twitter)"
   ]
  },
  {
   "cell_type": "code",
   "execution_count": null,
   "metadata": {},
   "outputs": [],
   "source": [
    "twitter[\"Message\"] = twitter[\"Message\"].progress_apply(clean_text)\n",
    "twitter[\"Message_translated\"] = twitter[\"Message\"].progress_apply(translate_text)\n",
    "twitter[\"Sentiment_XLM\"] = twitter[\"Message\"].progress_apply(get_sentiment)"
   ]
  },
  {
   "cell_type": "markdown",
   "metadata": {},
   "source": [
    "### Format Instagram"
   ]
  },
  {
   "cell_type": "code",
   "execution_count": null,
   "metadata": {},
   "outputs": [],
   "source": [
    "# Read in insta comments\n",
    "with open(\n",
    "    f\"./football_kits_data/{color}/{club}/instagram_comments_announcement.txt\", \"r\"\n",
    ") as file:\n",
    "    instagram = file.readlines()\n",
    "\n",
    "# Extract the comments from the instagram post\n",
    "comments = format_instagram_comments(instagram)"
   ]
  },
  {
   "cell_type": "code",
   "execution_count": null,
   "metadata": {},
   "outputs": [],
   "source": [
    "# Translate and clean the comments\n",
    "comments = list(\n",
    "    set([clean_text(comment) for comment in tqdm(comments, desc=\"Cleaning text\")])\n",
    ")\n",
    "translated_comments = [\n",
    "    translate_text(comment) for comment in tqdm(comments, desc=\"Translating text\")\n",
    "]"
   ]
  },
  {
   "cell_type": "code",
   "execution_count": null,
   "metadata": {},
   "outputs": [],
   "source": [
    "# create a dataframe and get the sentiment\n",
    "instagram_df = pd.DataFrame(comments, columns=[\"Message\"])\n",
    "instagram_df[\"Sentiment_XLM\"] = instagram_df[\"Message\"].progress_apply(get_sentiment)\n",
    "instagram_df[\"Message_translated\"] = translated_comments"
   ]
  },
  {
   "cell_type": "markdown",
   "metadata": {},
   "source": [
    "### Format Facebook"
   ]
  },
  {
   "cell_type": "code",
   "execution_count": null,
   "metadata": {},
   "outputs": [],
   "source": [
    "facebook_comments_announcement_link = (\n",
    "    f\"./football_kits_data/{color}/{club}/facebook_comments_announcement.txt\"\n",
    ")\n",
    "fb_comments = extract_facebook_comments(facebook_comments_announcement_link)\n",
    "df_facebook_unique_comments = list(set(fb_comments))\n",
    "\n",
    "\n",
    "df_facebook_unique_comments = [\n",
    "    clean_text(comment)\n",
    "    for comment in tqdm(df_facebook_unique_comments, desc=\"Cleaning text\")\n",
    "]\n",
    "\n",
    "df_facebook_unique_comments_translated = [\n",
    "    translate_text(comment)\n",
    "    for comment in tqdm(df_facebook_unique_comments, desc=\"Translating text\")\n",
    "]"
   ]
  },
  {
   "cell_type": "code",
   "execution_count": null,
   "metadata": {},
   "outputs": [],
   "source": [
    "# Analyze the sentiment of the facebook comments\n",
    "fb_comments_df = pd.DataFrame(df_facebook_unique_comments, columns=[\"Comment\"])\n",
    "fb_comments_df.drop_duplicates(subset=[\"Comment\"], inplace=True)\n",
    "fb_comments_df[\"Sentiment_XLM\"] = fb_comments_df[\"Comment\"].progress_apply(\n",
    "    get_sentiment\n",
    ")\n",
    "fb_comments_df[\"Message_translated\"] = df_facebook_unique_comments_translated"
   ]
  },
  {
   "cell_type": "markdown",
   "metadata": {},
   "source": [
    "## Announcement Sentiment"
   ]
  },
  {
   "cell_type": "code",
   "execution_count": null,
   "metadata": {},
   "outputs": [],
   "source": [
    "# Twitter Sentiment\n",
    "print(f\"Twitter Volume: {twitter.shape[0]}\")\n",
    "print(\"Twitter Sentiment\")\n",
    "twitter[\"Sentiment_XLM\"].value_counts() / twitter.shape[0] * 100"
   ]
  },
  {
   "cell_type": "code",
   "execution_count": null,
   "metadata": {},
   "outputs": [],
   "source": [
    "print(f\"Insta Volume: {instagram_df.shape[0]}\")\n",
    "print(\"Insta Sentiment\")\n",
    "instagram_df[\"Sentiment_XLM\"].value_counts() / instagram_df.shape[0] * 100"
   ]
  },
  {
   "cell_type": "code",
   "execution_count": null,
   "metadata": {},
   "outputs": [],
   "source": [
    "print(f\"FB Volume: {fb_comments_df.shape[0]}\")\n",
    "print(\"FB Sentiment\")\n",
    "fb_comments_df[\"Sentiment_XLM\"].value_counts() / fb_comments_df.shape[0] * 100"
   ]
  },
  {
   "cell_type": "code",
   "execution_count": null,
   "metadata": {},
   "outputs": [],
   "source": [
    "all_sentiment = pd.concat([twitter, instagram_df, fb_comments_df], ignore_index=True)\n",
    "print(f\"Aggregate Volume: {all_sentiment.shape[0]}\")\n",
    "print(\"Aggregate Sentiment\")\n",
    "all_sentiment[\"Sentiment_XLM\"].value_counts() / all_sentiment.shape[0] * 100"
   ]
  },
  {
   "cell_type": "code",
   "execution_count": null,
   "metadata": {},
   "outputs": [],
   "source": [
    "all_sentiment.dropna(subset=[\"Message_translated\"], inplace=True)"
   ]
  },
  {
   "cell_type": "markdown",
   "metadata": {},
   "source": [
    "## ABSA"
   ]
  },
  {
   "cell_type": "code",
   "execution_count": null,
   "metadata": {},
   "outputs": [],
   "source": [
    "# Segment announcement comments\n",
    "all_sentiment[\"Announcement\"] = all_sentiment[\"Message_translated\"].progress_apply(\n",
    "    lambda x: perform_absa(x, announcement_keywords)\n",
    ")\n",
    "print(\"Announcement Volume\")\n",
    "print(all_sentiment[\"Announcement\"].value_counts())"
   ]
  },
  {
   "cell_type": "code",
   "execution_count": null,
   "metadata": {},
   "outputs": [],
   "source": [
    "# Announcement Sentiment\n",
    "print(\"Announcement Sentiment\")\n",
    "all_sentiment[all_sentiment[\"Announcement\"]][\n",
    "    \"Sentiment_XLM\"\n",
    "].value_counts() / all_sentiment[all_sentiment[\"Announcement\"]].shape[0] * 100"
   ]
  },
  {
   "cell_type": "code",
   "execution_count": null,
   "metadata": {},
   "outputs": [],
   "source": [
    "# Non-Announcement Sentiment\n",
    "print(\"Non-Announcement Sentiment\")\n",
    "all_sentiment[~all_sentiment[\"Announcement\"]][\n",
    "    \"Sentiment_XLM\"\n",
    "].value_counts() / all_sentiment[~all_sentiment[\"Announcement\"]].shape[0] * 100"
   ]
  },
  {
   "cell_type": "code",
   "execution_count": null,
   "metadata": {},
   "outputs": [],
   "source": [
    "# Save comments\n",
    "all_sentiment[all_sentiment[\"Announcement\"]][\"Message_translated\"].to_csv(\n",
    "    f\"./football_kits_data/{color}/{club}/announcement_comments.csv\", index=False\n",
    ")"
   ]
  }
 ],
 "metadata": {
  "kernelspec": {
   "display_name": "Football_Kits",
   "language": "python",
   "name": "python3"
  },
  "language_info": {
   "codemirror_mode": {
    "name": "ipython",
    "version": 3
   },
   "file_extension": ".py",
   "mimetype": "text/x-python",
   "name": "python",
   "nbconvert_exporter": "python",
   "pygments_lexer": "ipython3",
   "version": "3.11.9"
  }
 },
 "nbformat": 4,
 "nbformat_minor": 2
}
