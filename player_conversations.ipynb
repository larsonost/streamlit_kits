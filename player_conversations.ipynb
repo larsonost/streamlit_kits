{
 "cells": [
  {
   "cell_type": "code",
   "execution_count": null,
   "metadata": {},
   "outputs": [],
   "source": [
    "import pandas as pd\n",
    "import re\n",
    "import unidecode\n",
    "import spacy\n",
    "from helpers import get_sentiment\n",
    "from tqdm import tqdm\n",
    "import glob\n",
    "\n",
    "tqdm.pandas()\n",
    "\n",
    "# show all pandas columns\n",
    "pd.set_option(\"display.max_columns\", None)"
   ]
  },
  {
   "cell_type": "code",
   "execution_count": null,
   "metadata": {},
   "outputs": [],
   "source": [
    "# Read all dataframes\n",
    "file_paths = glob.glob(\"./football_kits_data/*.xlsx\")\n",
    "dataframes = [pd.read_excel(file) for file in file_paths]\n",
    "df = pd.concat(dataframes, ignore_index=True).drop_duplicates()\n",
    "df.head(3)"
   ]
  },
  {
   "cell_type": "code",
   "execution_count": null,
   "metadata": {},
   "outputs": [],
   "source": [
    "# Clean\n",
    "def remove_profile_mentions(text):\n",
    "    if not isinstance(text, str):\n",
    "        text = str(text)\n",
    "    return re.sub(r\"@[\\w_]+\", \"\", text)\n",
    "\n",
    "\n",
    "df[\"Message\"] = df[\"Message\"].str.replace(\"RT \", \"\")\n",
    "df[\"Message\"] = df[\"Message\"].progress_apply(remove_profile_mentions)\n",
    "df[\"SENTIMENT\"] = df[\"Message\"].progress_apply(get_sentiment)"
   ]
  },
  {
   "cell_type": "code",
   "execution_count": null,
   "metadata": {},
   "outputs": [],
   "source": [
    "comments = list(df[\"Message\"])\n",
    "\n",
    "\n",
    "def find_conversations(comments, sentiments) -> dict:\n",
    "    \"\"\"\n",
    "    Find conversations in the comments and count the sentiment of each person mentioned.\n",
    "    \"\"\"\n",
    "    people = {}\n",
    "    nlp = spacy.load(\"en_core_web_sm\")\n",
    "    for comment, sentiment in tqdm(zip(comments, sentiments), total=len(comments)):\n",
    "        doc = nlp(comment)\n",
    "        for ent in doc.ents:\n",
    "            if ent.label_ == \"PERSON\":\n",
    "                ent = ent.text.lower()\n",
    "                # Remove accents from the entity name\n",
    "                ent = unidecode.unidecode(ent)\n",
    "                if ent not in people:\n",
    "                    people[ent] = {\n",
    "                        \"POSITIVE\": 0,\n",
    "                        \"NEGATIVE\": 0,\n",
    "                        \"NEUTRAL\": 0,\n",
    "                        \"total\": 0,\n",
    "                    }\n",
    "                # Update sentiment counts\n",
    "                people[ent][sentiment] += 1\n",
    "                people[ent][\"total\"] += 1\n",
    "                break\n",
    "    return people\n",
    "\n",
    "\n",
    "# Find conversations and sentiments\n",
    "people = find_conversations(df[\"Message\"], df[\"Sentiment\"])\n",
    "# Convert the results into a dataframe\n",
    "people_df = pd.DataFrame.from_dict(people, orient=\"index\").reset_index()\n",
    "# Rename columns for clarity\n",
    "people_df.columns = [\n",
    "    \"person\",\n",
    "    \"positive_comments\",\n",
    "    \"negative_comments\",\n",
    "    \"neutral_comments\",\n",
    "    \"total_comments\",\n",
    "]\n",
    "# Sort the dataframe by the number of total comments\n",
    "people_df = people_df.sort_values(by=\"total_comments\", ascending=False)\n",
    "# Display the dataframe\n",
    "people_df"
   ]
  },
  {
   "cell_type": "code",
   "execution_count": null,
   "metadata": {},
   "outputs": [],
   "source": [
    "# Save the dataframe to a CSV file\n",
    "people_df[people_df[\"total_comments\"] > 10].to_csv(\n",
    "    \"./football_kits_data/people.csv\", index=False\n",
    ")"
   ]
  }
 ],
 "metadata": {
  "kernelspec": {
   "display_name": "kit_sentiment",
   "language": "python",
   "name": "python3"
  },
  "language_info": {
   "codemirror_mode": {
    "name": "ipython",
    "version": 3
   },
   "file_extension": ".py",
   "mimetype": "text/x-python",
   "name": "python",
   "nbconvert_exporter": "python",
   "pygments_lexer": "ipython3",
   "version": "3.9.19"
  }
 },
 "nbformat": 4,
 "nbformat_minor": 2
}
